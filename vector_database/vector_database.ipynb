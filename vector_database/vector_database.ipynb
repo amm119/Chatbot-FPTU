{
  "cells": [
    {
      "cell_type": "code",
      "execution_count": 1,
      "metadata": {
        "colab": {
          "base_uri": "https://localhost:8080/"
        },
        "id": "bQ4HnUjc5WwI",
        "outputId": "87df644e-736c-499e-eaec-4203fb559ca3"
      },
      "outputs": [
        {
          "output_type": "stream",
          "name": "stdout",
          "text": [
            "\u001b[2K     \u001b[90m━━━━━━━━━━━━━━━━━━━━━━━━━━━━━━━━━━━━━━━━\u001b[0m \u001b[32m807.5/807.5 kB\u001b[0m \u001b[31m7.0 MB/s\u001b[0m eta \u001b[36m0:00:00\u001b[0m\n",
            "\u001b[2K     \u001b[90m━━━━━━━━━━━━━━━━━━━━━━━━━━━━━━━━━━━━━━━━\u001b[0m \u001b[32m214.4/214.4 kB\u001b[0m \u001b[31m9.6 MB/s\u001b[0m eta \u001b[36m0:00:00\u001b[0m\n",
            "\u001b[2K     \u001b[90m━━━━━━━━━━━━━━━━━━━━━━━━━━━━━━━━━━━━━━━━\u001b[0m \u001b[32m1.8/1.8 MB\u001b[0m \u001b[31m16.6 MB/s\u001b[0m eta \u001b[36m0:00:00\u001b[0m\n",
            "\u001b[2K     \u001b[90m━━━━━━━━━━━━━━━━━━━━━━━━━━━━━━━━━━━━━━━━\u001b[0m \u001b[32m256.9/256.9 kB\u001b[0m \u001b[31m16.7 MB/s\u001b[0m eta \u001b[36m0:00:00\u001b[0m\n",
            "\u001b[2K     \u001b[90m━━━━━━━━━━━━━━━━━━━━━━━━━━━━━━━━━━━━━━━━\u001b[0m \u001b[32m66.6/66.6 kB\u001b[0m \u001b[31m9.4 MB/s\u001b[0m eta \u001b[36m0:00:00\u001b[0m\n",
            "\u001b[2K     \u001b[90m━━━━━━━━━━━━━━━━━━━━━━━━━━━━━━━━━━━━━━━━\u001b[0m \u001b[32m2.8/2.8 MB\u001b[0m \u001b[31m29.2 MB/s\u001b[0m eta \u001b[36m0:00:00\u001b[0m\n",
            "\u001b[2K     \u001b[90m━━━━━━━━━━━━━━━━━━━━━━━━━━━━━━━━━━━━━━━━\u001b[0m \u001b[32m75.6/75.6 kB\u001b[0m \u001b[31m9.9 MB/s\u001b[0m eta \u001b[36m0:00:00\u001b[0m\n",
            "\u001b[2K     \u001b[90m━━━━━━━━━━━━━━━━━━━━━━━━━━━━━━━━━━━━━━━━\u001b[0m \u001b[32m49.4/49.4 kB\u001b[0m \u001b[31m7.1 MB/s\u001b[0m eta \u001b[36m0:00:00\u001b[0m\n",
            "\u001b[2K     \u001b[90m━━━━━━━━━━━━━━━━━━━━━━━━━━━━━━━━━━━━━━━━\u001b[0m \u001b[32m294.6/294.6 kB\u001b[0m \u001b[31m32.0 MB/s\u001b[0m eta \u001b[36m0:00:00\u001b[0m\n",
            "\u001b[2K     \u001b[90m━━━━━━━━━━━━━━━━━━━━━━━━━━━━━━━━━━━━━━━━\u001b[0m \u001b[32m5.5/5.5 MB\u001b[0m \u001b[31m40.9 MB/s\u001b[0m eta \u001b[36m0:00:00\u001b[0m\n",
            "\u001b[2K     \u001b[90m━━━━━━━━━━━━━━━━━━━━━━━━━━━━━━━━━━━━━━━━\u001b[0m \u001b[32m77.8/77.8 kB\u001b[0m \u001b[31m6.3 MB/s\u001b[0m eta \u001b[36m0:00:00\u001b[0m\n",
            "\u001b[2K     \u001b[90m━━━━━━━━━━━━━━━━━━━━━━━━━━━━━━━━━━━━━━━━\u001b[0m \u001b[32m57.5/57.5 kB\u001b[0m \u001b[31m7.5 MB/s\u001b[0m eta \u001b[36m0:00:00\u001b[0m\n",
            "\u001b[2K     \u001b[90m━━━━━━━━━━━━━━━━━━━━━━━━━━━━━━━━━━━━━━━━\u001b[0m \u001b[32m58.3/58.3 kB\u001b[0m \u001b[31m7.0 MB/s\u001b[0m eta \u001b[36m0:00:00\u001b[0m\n",
            "\u001b[2K     \u001b[90m━━━━━━━━━━━━━━━━━━━━━━━━━━━━━━━━━━━━━━━━\u001b[0m \u001b[32m138.5/138.5 kB\u001b[0m \u001b[31m16.4 MB/s\u001b[0m eta \u001b[36m0:00:00\u001b[0m\n",
            "\u001b[?25h\u001b[31mERROR: pip's dependency resolver does not currently take into account all the packages that are installed. This behaviour is the source of the following dependency conflicts.\n",
            "tensorflow-metadata 1.14.0 requires protobuf<4.21,>=3.20.3, but you have protobuf 4.25.3 which is incompatible.\u001b[0m\u001b[31m\n",
            "\u001b[0m"
          ]
        }
      ],
      "source": [
        "!pip install langchain qdrant-client -q"
      ]
    },
    {
      "cell_type": "markdown",
      "metadata": {
        "id": "4QfxwGqw5obc"
      },
      "source": [
        "# **Xử lý dữ liệu**"
      ]
    },
    {
      "cell_type": "code",
      "execution_count": 6,
      "metadata": {
        "id": "JOqNvEWEVRBL"
      },
      "outputs": [],
      "source": [
        "from langchain.vectorstores import Qdrant\n",
        "from langchain.embeddings import HuggingFaceBgeEmbeddings\n",
        "from langchain.text_splitter import RecursiveCharacterTextSplitter\n",
        "from langchain.document_loaders import PyPDFDirectoryLoader,TextLoader\n",
        "loader_datafptu = TextLoader(\"/content/datasetfptu.txt\")"
      ]
    },
    {
      "cell_type": "code",
      "execution_count": 7,
      "metadata": {
        "id": "qamAM3Vt5yL4"
      },
      "outputs": [],
      "source": [
        "documents_datafptu = loader_datafptu.load()\n",
        "text_splitter = RecursiveCharacterTextSplitter(chunk_size=800,\n",
        "                                                chunk_overlap=400)\n",
        "\n",
        "texts_datafptu = text_splitter.split_documents(documents_datafptu)\n"
      ]
    },
    {
      "cell_type": "code",
      "execution_count": 8,
      "metadata": {
        "colab": {
          "base_uri": "https://localhost:8080/"
        },
        "id": "0F0cXZ0UGDxC",
        "outputId": "e0cbb989-ffdf-4bff-aa62-5c0325c3d99e"
      },
      "outputs": [
        {
          "output_type": "execute_result",
          "data": {
            "text/plain": [
              "44"
            ]
          },
          "metadata": {},
          "execution_count": 8
        }
      ],
      "source": [
        "len(texts_datafptu)"
      ]
    },
    {
      "cell_type": "code",
      "execution_count": 9,
      "metadata": {
        "id": "OqVcRTle4CWc"
      },
      "outputs": [],
      "source": [
        "# Cài đặt thông tin truy cập vector database\n",
        "QDRANT_API_KEY = \"<...>\"\n",
        "QDRANT_URL = \"<...>\"\n",
        "HUGGINGFACE_API_KEY= \"<...>\""
      ]
    },
    {
      "cell_type": "code",
      "execution_count": 11,
      "metadata": {
        "colab": {
          "base_uri": "https://localhost:8080/"
        },
        "id": "5BjwddrcT-nr",
        "outputId": "75b17efc-f04d-43b2-ff34-c6b7de15fdb9"
      },
      "outputs": [
        {
          "output_type": "stream",
          "name": "stdout",
          "text": [
            "Tạo vector database thành công!\n"
          ]
        }
      ],
      "source": [
        "from langchain.embeddings import HuggingFaceInferenceAPIEmbeddings\n",
        "# Tạo lớp embeddings\n",
        "embeddings = HuggingFaceInferenceAPIEmbeddings(\n",
        "    model_name=\"sentence-transformers/paraphrase-multilingual-mpnet-base-v2\",\n",
        "    api_key = HUGGINGFACE_API_KEY,\n",
        "    model_kwargs = {'device': 'auto'}\n",
        ")\n",
        "\n",
        "# Encode dữ liệu text qua lớp embedding,\n",
        "# rồi lưu lại trên vector database server\n",
        "qdrant = Qdrant.from_documents(\n",
        "    texts_datafptu,\n",
        "    embeddings,\n",
        "    url=QDRANT_URL,\n",
        "    prefer_grpc=False,\n",
        "    collection_name=\"nttu_sotay_vector_db_v1\",\n",
        "    api_key=QDRANT_API_KEY,\n",
        ")\n",
        "\n",
        "print(\"Tạo vector database thành công!\")"
      ]
    },
    {
      "cell_type": "code",
      "execution_count": 12,
      "metadata": {
        "id": "2bUyfINkBL79"
      },
      "outputs": [],
      "source": [
        "# Test tìm văn bản liên quan đến query\n",
        "query = \"Cấu trúc đề thi học bổng Đại học FPT\"\n",
        "found_docs = qdrant.similarity_search(query,k=15)"
      ]
    },
    {
      "cell_type": "code",
      "execution_count": 13,
      "metadata": {
        "colab": {
          "base_uri": "https://localhost:8080/"
        },
        "id": "-5X0bXF7BPSU",
        "outputId": "f325712f-62fa-4cb9-b505-a13953cc261f"
      },
      "outputs": [
        {
          "output_type": "execute_result",
          "data": {
            "text/plain": [
              "[Document(page_content='Trường Đại học FPT trân trọng thông báo chương trình học bổng “FPTU Scholarship 1000” hệ đại học chính quy – Trường Đại học FPT năm 2023 như sau:\\n\\n\\n1. Nội dung chương trình\\nTrao 1000 học bổng hệ đại học chính quy – Trường ĐH FPT năm 2023 cho thí sinh tốt nghiệp THPT năm 2023 đạt các tiêu chí:\\n- Đủ điều kiện nhập học vào Trường ĐH FPT (Theo phương thức tuyển sinh:  xét tuyển thẳng hoặc xét kết quả xếp hạng học sinh THPT năm 2023 - chứng nhận thực hiện trên trang https://SchoolRank.fpt.edu.vn – xem trong Quy chế tuyển sinh Hệ đại học chính quy năm 2023 của Trường ĐH FPT);\\n- Nộp đơn và được Hội đồng Học bổng Trường ĐH FPT xem xét chấp nhận;\\n- Hoàn tất các thủ tục đăng ký học bổng và đăng ký xét tuyển sau khi được chấp nhận cấp học bổng.', metadata={'source': '/content/datasetfptu.txt', '_id': '540840f3-9c78-4034-8419-011235bc88d9', '_collection_name': 'nttu_sotay_vector_db_v1'}),\n",
              " Document(page_content='Các bạn thí sinh và phụ huynh vui lòng tham khảo thông tin chi tiết Quy định Học bổng Nguyễn Văn Đạo của Trường Đại học FPT bên dưới.\\n\\n\\n\\nQUY ĐỊNH HỌC BỔNG NGUYỄN VĂN ĐẠO\\n\\nÁp dụng cho sinh viên hệ Đại học chính quy Trường Đại học FPT năm 2023\\n\\n \\n1. Mục đích\\n\\n- Tìm kiếm, thu hút và bồi dưỡng nhân tài; \\n\\n- Ghi nhớ những đóng góp của cố GS.VS Nguyễn Văn Đạo cho sự nghiệp giáo dục, khoa học kỹ thuật của Việt Nam nói chung và sự phát triển của Đại học FPT nói riêng. \\n\\n \\n\\n 2. Số lượng học bổng\\n\\n- 1000 suất học bổng\\n\\n \\n\\n 3. Mức học bổng và tiêu chí cấp học bổng\\n\\n \\n\\n a. Cấp thẳng học bổng\\n\\nThí sinh đủ điều kiện trúng tuyển Đại học FPT được cấp học bổng của Đại học FPT nếu đáp ứng một trong những điều kiện sau:', metadata={'source': '/content/datasetfptu.txt', '_id': '960e4823-5f63-47ab-9928-3b8c8a6b2f14', '_collection_name': 'nttu_sotay_vector_db_v1'}),\n",
              " Document(page_content='Đại học FPT công bố chi tiết học phí tại trang\\xa0Học phí. Sinh viên được miễn phí toàn bộ giáo trình (nhập khẩu) trong suốt 4 năm học.\\n\\n\\nTrường có chính sách học bổng không? Nếu muốn có học bổng thì cần đáp ứng điều kiện gì?\\n\\n\\nHàng năm, Đại học FPT dành hàng trăm suất học bổng đầu vào từ 10% - 100% học phí. Học bổng này được cấp cho toàn khóa học của sinh viên.\\xa0\\nĐiều kiện để tham gia xét cấp học bổng yêu cầu thí sinh cần có các thành tích từ cấp Quốc Gia trở lên hoặc tham gia thi xét cấp học bổng thường vào tháng 5 hàng năm. Chi tiết xem tại trang\\xa0Học bổng.\\xa0\\n\\n\\nKhi nào thì tôi có thể nộp hồ sơ vào trường? Và hồ sơ bao gồm những gì?', metadata={'source': '/content/datasetfptu.txt', '_id': 'eae80f39-3df2-49bd-b23c-3f0fd81c022b', '_collection_name': 'nttu_sotay_vector_db_v1'}),\n",
              " Document(page_content='5. Cấu trúc đề thi học bổng Đại học FPT\\n\\n Các thí sinh thực hiện 2 bài thi bằng ngôn ngữ Tiếng Việt, chi tiết như sau:\\n Bài thi 1\\tTư duy logic, 90 câu\\t120 phút\\t 90 điểm\\n Bài thi 2\\tNghị luận xã hội\\t60 phút\\t 15 điểm\\nĐiểm chuẩn kỳ thi học bổng của ĐH FPT do Chủ tịch Hội đồng tuyển sinh quyết định, được công bố theo từng đợt thi.\\n\\n \\n\\n6. Hồ sơ đăng ký tham gia chương trình học bổng Nguyễn Văn Đạo\\n\\n- Đăng ký thi học bổng trực tuyến tại: https://dangky.fpt.edu.vn/\\n\\n- 01 bản photo hoặc bản Scan CMND;\\n\\n- 01 ảnh 3x4 hoặc bản Scan ảnh 3x4;\\n\\n- Lệ phí thi học bổng 200,000 VNĐ;\\n\\n- 01 bản photo/ Scan học bạ THPT (đối với hồ sơ xét tuyển theo kết quả Học bạ THPT) hoặc 01 bản gốc Giấy chứng nhận kết quả kỳ thi THPT 2023 (đối với hồ sơ xét tuyển theo kết quả thi THPT 2023);', metadata={'source': '/content/datasetfptu.txt', '_id': 'eac8126b-2638-4bd5-b7c5-fe93fa852068', '_collection_name': 'nttu_sotay_vector_db_v1'}),\n",
              " Document(page_content='Tất cả các bạn học sinh THPT trên toàn quốc, đủ điều kiện nhận các suất học bổng từ Đại học FPT, có thể tham khảo quy chế học bổng của nhà trường và nộp hồ sơ xét tuyển. Các hồ sơ học bổng sẽ được nhà trường xét duyệt và công bố theo quy chế học bổng được Hiệu trưởng Trường Đại học FPT ban hành. Nhà trường sẽ ưu tiên những hồ sơ xét duyệt những hồ sơ hoàn thành đầy đủ và sớm nhất.\\n\\nCác bạn thí sinh và phụ huynh vui lòng tham khảo thông tin chi tiết Quy định Học bổng Nguyễn Văn Đạo của Trường Đại học FPT bên dưới.\\n\\n\\n\\nQUY ĐỊNH HỌC BỔNG NGUYỄN VĂN ĐẠO\\n\\nÁp dụng cho sinh viên hệ Đại học chính quy Trường Đại học FPT năm 2023\\n\\n \\n1. Mục đích\\n\\n- Tìm kiếm, thu hút và bồi dưỡng nhân tài;', metadata={'source': '/content/datasetfptu.txt', '_id': '72585ea3-4357-4dff-bd8c-941397e3f267', '_collection_name': 'nttu_sotay_vector_db_v1'}),\n",
              " Document(page_content='b. Thi giành học bổng\\nThí sinh đủ điều kiện xét tuyển Đại học FPT, tốt nghiệp THPT năm 2023, chưa từng đạt học bổng trong các kì thi học bổng của Đại học FPT và đạt một trong các tiêu chí sau sẽ đủ điều kiện tham gia kỳ thi học bổng của Đại học FPT để nhận các mức học bổng 10% - 100% (học phí toàn khoá học):\\n\\n- Có tên trong danh sách đội tuyển thi Học sinh giỏi Quốc Gia (các môn: Toán, Vật lý, Hóa học, Tin học, tiếng Anh);\\n\\n- Xếp hạng học bạ THPT 2023 đạt TOP30 THPT 2023 (Chứng nhận thực hiện trên trang http://SchoolRank.fpt.edu.vn)\\n\\n- Điểm GPA  từ mức A (hoặc tương đương) trở lên (đối với các thí sinh tốt nghiệp THPT ở nước ngoài)\\n\\nGhi chú: (*) chính xác đến 0.25 (ví dụ: từ 23.75 đến 24 làm tròn thành 24)\\n\\n \\n4. Lịch trình thi học bổng, xét cấp học bổng\\nDự kiến: 7/5/2023', metadata={'source': '/content/datasetfptu.txt', '_id': '16e62dae-df5f-46da-b033-2c713793c9f4', '_collection_name': 'nttu_sotay_vector_db_v1'}),\n",
              " Document(page_content='2. Số lượng học bổng\\n\\n- 1000 suất học bổng\\n\\n \\n\\n 3. Mức học bổng và tiêu chí cấp học bổng\\n\\n \\n\\n a. Cấp thẳng học bổng\\n\\nThí sinh đủ điều kiện trúng tuyển Đại học FPT được cấp học bổng của Đại học FPT nếu đáp ứng một trong những điều kiện sau:\\n\\nMức học bổng\\t\\n100%+ (học phí và sinh hoạt phí)\\nTiêu chí\\nThỏa mãn một trong các tiêu chí:\\n\\n- Tham gia đội tuyển trong các kỳ thi quốc tế IMO, IOI.\\n\\n- Đạt giải Nhất trong kỳ thi Học sinh giỏi Quốc gia một trong các môn Toán, Vật lý, Hóa học, Tin học.\\nMức học bổng\\t\\n70%\\t\\nTiêu chí\\n- Đạt giải Nhì trong kỳ thi Học sinh giỏi quốc gia các môn Toán, Vật lý, Hoá học, Tin học.\\nMức học bổng\\t\\n50%\\t\\nTiêu chí\\nThoả mãn một trong các tiêu chí:\\n\\n- Đạt giải Ba trong kỳ thi Học sinh giỏi quốc gia các môn Toán, Vật lý, Hoá học, Tin học;', metadata={'source': '/content/datasetfptu.txt', '_id': 'e2404ad8-bfa3-48bd-bab1-4d75a46cc3b5', '_collection_name': 'nttu_sotay_vector_db_v1'}),\n",
              " Document(page_content='8. Các quy định khác\\n\\nThực hiện theo quy định tài chính học bổng, tín dụng đối với sinh viên hệ đại học chính quy Trường Đại học FPT hiện hành:  \\n\\na. Nhà trường sẽ ưu tiên cấp học bổng cho thí sinh hoàn thành hồ sơ nhập học sớm cho đến khi hết chỉ tiêu học bổng năm 2023; \\n\\nb. Học bổng Nguyễn Văn Đạo là học bổng đích danh và không có giá trị chuyển đổi cho người khác cũng như chuyển đổi thành tiền mặt;\\n\\nc. Học bổng Nguyễn Văn Đạo là độc lập và không áp dụng cùng với bất cứ một hình thức ưu đãi nào khác của Trường Đại học FPT;\\n\\nd. Đối với học bổng mức 100%+ (học phí và sinh hoạt phí): Sinh hoạt phí là chi phí ăn ở, chỉ được hỗ trợ trong thời gian thực học theo chương trình (bao gồm học phí chương trình tiếng Anh dự bị), không áp dụng cho các giai đoạn tạm ngưng học vì bất cứ lý do gì.', metadata={'source': '/content/datasetfptu.txt', '_id': '6678b692-1565-42f5-9d1f-28c2d3a7ab8e', '_collection_name': 'nttu_sotay_vector_db_v1'}),\n",
              " Document(page_content='- Phiếu nhập học (theo quy định của Trường ĐH FPT);\\n- Phí đăng ký nhập học và Học phí theo Quy định tài chính sinh viên Trường ĐH FPT hiện hành;\\n- 01 Bản sao chứng thực Bằng tốt nghiệp THPT (hoặc Giấy chứng nhận tốt nghiệp THPT tạm thời và bổ sung sau khi có Bằng);\\n- 01 Bản sao chứng thực Học bạ THPT;\\n- 01 Bản sao chứng thực CMND;\\n- 01 Ảnh 3×4;\\n- 01 Bản sao chứng thực Giấy khai sinh;\\n- 01 Bản sao chứng thực CMND của bố hoặc mẹ;\\n- 01 Bản sao chứng thực Sổ hộ khẩu;\\n- 01 Bản sao chứng thực Chứng chỉ tiếng Anh TOEFL iBT từ 80 hoặc IELTS (Học thuật) từ 6.0 hoặc quy đổi tương đương (nếu có);\\n- 01 Bản sao chứng thực Chứng chỉ tiếng Nhật JLPT từ N3 trở lên (nếu có);\\n- 01 Bản sao chứng thực Chứng chỉ tiếng Hàn TOPIK cấp độ 4 trong kỳ thi TOPIK II (nếu có);', metadata={'source': '/content/datasetfptu.txt', '_id': 'ad28f4bf-4848-4897-8c7a-bd1f574aa4ec', '_collection_name': 'nttu_sotay_vector_db_v1'}),\n",
              " Document(page_content='CHƯƠNG TRÌNH TÍN DỤNG ƯU ĐÃI\\n\\n\\n\\n1.\\tĐối tượng tham gia chương trình \\n\\n\\nCác thí sinh trúng tuyển Đại học FPT, có học lực khá, khó khăn về tài chính có nguyện vọng tham gia chương trình Tín dụng ưu đãi, đáp ứng đủ điều kiện đầu vào xét cấp tín dụng. Việc cấp tín dụng chỉ được áp dụng từ khi thí sinh trở thành sinh viên chính thức của Trường.\\n\\n\\n2.\\tTiêu chí cấp tín dụng\\n\\n\\nThí sinh có nguyện vọng tham gia chương trình Tín dụng ưu đãi, có mức sống trung bình trở xuống theo Nghị định số 07/2021/NĐ-CP của Thủ tướng chính phủ ban hành ngày 27/01/2021, đạt điều kiện sau và vượt qua vòng phỏng vấn của Đại học FPT: Đạt xếp hạng Top30 theo kết quả thi THPT năm 2024 hoặc theo học bạ THPT năm 2024 (chứng nhận thực hiện trên trang https://SchoolRank.fpt.edu.vn).', metadata={'source': '/content/datasetfptu.txt', '_id': 'f1fa2546-7902-4f49-b148-d93701556144', '_collection_name': 'nttu_sotay_vector_db_v1'}),\n",
              " Document(page_content='Hằng năm, Đại học FPT trao tặng hàng trăm suất học bổng cho những thí sinh tài năng trong các lĩnh vực học tập, khoa học - kỹ thuật, năng khiếu... cho các bạn học sinh THPT trên toàn quốc. Học bổng Đại học FPT được mang tên cố Giáo sư - Võ sư Nguyễn Văn Đạo để ghi nhớ những đóng góp của ông cho nền giáo dục và khoa học của Việt Nam nói chung, cũng như sự phát triển của Đại học FPT nói riêng. Các suất học bổng Đại học FPT có giá trị hàng trăm triệu đồng và được áp dụng trong suốt thời gian học tập tại trường. Các suất học bổng có giá trị từ 100%+, 100%, 70%, 50%... học phí quá trình đào tạo.', metadata={'source': '/content/datasetfptu.txt', '_id': '9b7f7fd4-f120-4d2c-953f-58c8e6d23d78', '_collection_name': 'nttu_sotay_vector_db_v1'}),\n",
              " Document(page_content='5.\\tHồ sơ nhập học chương trình Tín dụng ưu đãi\\n\\n\\nNgoài hồ sơ nhập học theo Quy chế tuyển sinh hiện hành của Trường Đại học FPT, thí sinh cần nộp bổ sung các giấy tờ sau:\\n-\\tCác giấy tờ chứng thực (bản gốc) đã nộp khi đăng ký tham gia chương trình Tín dụng ưu đãi;\\n-\\t02 Bản Thỏa thuận Tín dụng theo mẫu của Trường Đại học FPT đã có chữ ký của học sinh và người bảo lãnh.', metadata={'source': '/content/datasetfptu.txt', '_id': '792cb9c5-a4cd-4762-a388-8f861fc25d6b', '_collection_name': 'nttu_sotay_vector_db_v1'}),\n",
              " Document(page_content='Tôi đã học ở một trường Đại học khác, tôi có thể chuyển sang Đại học FPT để học tiếp không?\\n\\nHiện nay, Đại học FPT tiếp nhận sinh viên chuyển trường từ các trường Đại học khác. Tuy nhiên, sinh viên phải đến từ các trường thuộc TOP 1000 trong 3 bảng xếp hạng gần nhất: QS, ARWU & THE hoặc các trường đạt chứng nhận QS Stars 5* về chất lượng đào tạo.\\xa0\\n\\n\\nTôi tốt nghiệp THPT ở nước ngoài, nếu về Việt Nam tôi có được đăng ký vào học tại Đại học FPT không?\\n\\n\\nTrường hợp thí sinh là đối tượng đã tốt nghiệp THPT ở nước ngoài khi về Việt Nam để đăng ký vào Đại học FPT bạn cần chứng nhận của Sở GD-ĐT về việc công nhận văn bằng. Chi tiết vui lòng liên hệ hotline: (028) 7300.5588 để được hỗ trợ.\\xa0\\n\\n\\nChương trình học của Đại học FPT là giảng dạy bằng Tiếng Anh hay Tiếng Việt?', metadata={'source': '/content/datasetfptu.txt', '_id': '4138d6fe-2cce-422a-8cb9-9803b440d991', '_collection_name': 'nttu_sotay_vector_db_v1'}),\n",
              " Document(page_content='- Đăng ký thi học bổng trực tuyến tại: https://dangky.fpt.edu.vn/\\n\\n- 01 bản photo hoặc bản Scan CMND;\\n\\n- 01 ảnh 3x4 hoặc bản Scan ảnh 3x4;\\n\\n- Lệ phí thi học bổng 200,000 VNĐ;\\n\\n- 01 bản photo/ Scan học bạ THPT (đối với hồ sơ xét tuyển theo kết quả Học bạ THPT) hoặc 01 bản gốc Giấy chứng nhận kết quả kỳ thi THPT 2023 (đối với hồ sơ xét tuyển theo kết quả thi THPT 2023);\\n\\n- 01 Giấy chứng nhận xếp hạng học sinh THPT năm 2022 thực hiện trên trang http://SchoolRank.fpt.edu.vn \\n\\n- Giấy Xác nhận thông tin về cư trú (Có chữ ký và đóng dấu của Thủ trưởng cơ quan đăng ký cơ trú hoặc có chữ ký số của Thủ trưởng cơ quan đăng ký cơ trú đối với văn bản điện tử)\\n\\n- Bản photo các giấy tờ xác nhận thành tích (Bản chính sẽ nộp trong hồ sơ nhập học).', metadata={'source': '/content/datasetfptu.txt', '_id': 'ba49f1de-675e-4e21-882b-d3db89188e7d', '_collection_name': 'nttu_sotay_vector_db_v1'}),\n",
              " Document(page_content='c. Học bổng Nguyễn Văn Đạo là độc lập và không áp dụng cùng với bất cứ một hình thức ưu đãi nào khác của Trường Đại học FPT;\\n\\nd. Đối với học bổng mức 100%+ (học phí và sinh hoạt phí): Sinh hoạt phí là chi phí ăn ở, chỉ được hỗ trợ trong thời gian thực học theo chương trình (bao gồm học phí chương trình tiếng Anh dự bị), không áp dụng cho các giai đoạn tạm ngưng học vì bất cứ lý do gì. \\n\\nHỌC PHÍ ĐẠI HỌC FPT\\nHọc phí Đại học FPT được tính theo từng học kỳ. Một năm học sẽ có 3 học kỳ: Fall – Spring – Summer bắt đầu vào tháng 9 – tháng 1 – tháng 5. Mỗi học kỳ kéo dài trong 04 tháng. \\n\\nSố lần nộp học phí được công bố tại thời điểm tuyển sinh không thay đổi trong suốt quá trình học.', metadata={'source': '/content/datasetfptu.txt', '_id': '9abc9bcf-99f6-43ad-95dc-247374fe95cf', '_collection_name': 'nttu_sotay_vector_db_v1'})]"
            ]
          },
          "metadata": {},
          "execution_count": 13
        }
      ],
      "source": [
        "found_docs"
      ]
    },
    {
      "cell_type": "code",
      "source": [],
      "metadata": {
        "id": "Lpqa-lZC9J6n"
      },
      "execution_count": null,
      "outputs": []
    }
  ],
  "metadata": {
    "colab": {
      "provenance": [],
      "gpuType": "T4"
    },
    "kernelspec": {
      "display_name": "Python 3",
      "name": "python3"
    },
    "language_info": {
      "name": "python"
    },
    "accelerator": "GPU"
  },
  "nbformat": 4,
  "nbformat_minor": 0
}